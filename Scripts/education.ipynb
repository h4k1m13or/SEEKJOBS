{
 "cells": [
  {
   "cell_type": "code",
   "execution_count": 1,
   "metadata": {},
   "outputs": [],
   "source": [
    "import requests\n",
    "from bs4 import BeautifulSoup\n",
    "import re\n",
    "import pickle"
   ]
  },
  {
   "cell_type": "code",
   "execution_count": 2,
   "metadata": {},
   "outputs": [],
   "source": [
    "html=requests.get('https://en.wiktionary.org/wiki/Appendix:Academic_degrees')"
   ]
  },
  {
   "cell_type": "code",
   "execution_count": 3,
   "metadata": {},
   "outputs": [],
   "source": [
    "soup = BeautifulSoup(html.content, 'html.parser', from_encoding=\"utf-8\")"
   ]
  },
  {
   "cell_type": "code",
   "execution_count": 4,
   "metadata": {},
   "outputs": [
    {
     "name": "stdout",
     "output_type": "stream",
     "text": [
      "5\n"
     ]
    }
   ],
   "source": [
    "tbody=soup.find_all('tbody')\n",
    "print(len(tbody))"
   ]
  },
  {
   "cell_type": "code",
   "execution_count": 5,
   "metadata": {},
   "outputs": [],
   "source": [
    "result=[]\n",
    "\n",
    "for t in tbody:\n",
    "    result2=[]\n",
    "    td=t.find_all('td')\n",
    "    for a in td:\n",
    "        st=re.sub('(\\(*\\))','',a.text.lower())\n",
    "        result2.append(st.strip())\n",
    "    result.append(result2)\n",
    "    \n",
    "        "
   ]
  },
  {
   "cell_type": "code",
   "execution_count": 6,
   "metadata": {},
   "outputs": [],
   "source": [
    "bachelor=[]\n",
    "\n",
    "for r in result[2]:\n",
    "        t=r.split(' or ')\n",
    "        for a in t:\n",
    "            bachelor.extend(a.split(', '))\n",
    "\n",
    "\n",
    "        "
   ]
  },
  {
   "cell_type": "code",
   "execution_count": 7,
   "metadata": {},
   "outputs": [
    {
     "name": "stdout",
     "output_type": "stream",
     "text": [
      "['bachelor of arts', 'ba', 'b.a.', 'ab', 'a.b.', 'b.arts', 'bachelor of science and arts', 'bsa', 'bachelor of accountancy', 'bacy', 'b.acy.', 'bachelor of accounting', 'bacc', 'b.acc.', 'bachelor of animal and veterinary bioscience', 'b.an.vet.bio.sc.', 'bachelor of applied science', 'b.app.sc.', 'b.a.sc.', 'bachelor of architecture', 'barch', 'b.arch.', 'bachelor of business administration', 'bba', 'b.b.a.', 'bachelor of civil engineering', 'bce', 'b.c.e.', 'bachelor of commerce', 'bcomm', 'b.comm.,', 'bcom', 'b.com.', 'bachelor of communications', 'b.comm.', 'bachelor of computer application', 'bca', 'bachelor of dental hygiene', 'bdh', 'b.d.h', 'bachelor of dental medicine', 'bdm', 'b.d.m.', 'bachelor of dental science', 'bdsc', 'b.d.sc.', 'bachelor of dental surgery', 'bds', 'b.d.s.;', 'bchd', 'b.ch.d.', 'bachelor of dentistry', 'bdent', 'b.dent.', 'bachelor of design', 'bdes', 'b.des.', 'bachelor of design computing', 'b.des.comp.', 'bachelor of design in architecture', 'b.des.arch.', 'bachelor of education', 'bed', 'b.ed.', 'bachelor of engineering', 'beng', 'b.eng.,', 'be', 'b.e', 'bachelor of electronic commerce', 'bec', 'b.e-com.', 'bachelor of electrical engineering', 'bee', 'b.e.e.', 'bachelor of fine arts', 'bfa', 'b.f.a.', 'bachelor of health sciences', 'b.hlth.sci', 'bachelor of information technology', 'bit', 'b.i.t.', 'bachelor of international and global studies', 'bigs', 'b.i.g.s.', 'bachelor of law', 'llb', 'll.b.', 'bachelor of liberal arts and sciences', 'blas', 'b.l.a.s.', 'bachelor of library science', 'blib', 'b.lib.,', 'bls', 'b.l.s.', 'bachelor of literature', 'blit', 'b.lit.', 'bachelor of mathematics', 'bmath', 'b.math', 'bachelor of mechanical engineering', 'bme', 'b.m.e.', 'bachelor of medical science', 'b.med.sc.', 'bachelor of medicine', 'mb', 'm.b.', 'bachelor of music', 'b.m.', 'bachelor of music studies', 'b.mus.studies', 'bachelor of nursing', 'bn', 'b.n.', 'bachelor of pharmacy', 'b.pharm.', 'bachelor of political', 'economic and social sciences', 'b.p.e.s.s.', 'bachelor of resource economics', 'b.res.ec.', 'bachelor of science', '(us bs', 'b.s.; (uk bsc', 'b.sc.', 'bachelor of science in dental hygiene', 'bsdh', 'b.s.d.h', 'bachelor of science in environmental and occupational health', 'bs.eoh', 'bachelor of science in nursing', 'bsn', 'bachelor of socio-legal studies', 'bsls', 'b.s.l.s.', 'bachelor of surgery', 'bs', 'b.s.', 'bachelor of technology', 'btech', 'b.tech.', 'bachelor of veterinary science', 'b.v.sc.', 'bachelor of visual arts', 'bva', 'b.v.a.']\n"
     ]
    }
   ],
   "source": [
    "print(bachelor)"
   ]
  },
  {
   "cell_type": "code",
   "execution_count": 8,
   "metadata": {},
   "outputs": [],
   "source": [
    "master=[]\n",
    "\n",
    "for r in result[3]:\n",
    "        t=r.split(' or ')\n",
    "        for a in t:\n",
    "            master.extend(a.split(', '))"
   ]
  },
  {
   "cell_type": "code",
   "execution_count": 9,
   "metadata": {},
   "outputs": [
    {
     "name": "stdout",
     "output_type": "stream",
     "text": [
      "['master of architecture (professional degree', 'master of science in architecture (research degree', 'm.arch.', 'm.s.', 'master of arts', 'ma', 'm.a.,', 'a.m.', 'master of business administration', 'mba', 'm.b.a.', 'master of commerce', 'mcom', 'm.com', 'master of computer application', 'mca', 'master of divinity', 'mdiv', 'm.div.', 'master of education (master of science in education', 'm.ed.', 'm.s.ed.,', 'msed.', 'master of emergency management', 'mem', 'm.e.m.', 'master of emergency and disaster management', 'medm', 'm.e.d.m.', 'master of engineering', 'm.e.', 'meng', 'm.eng.', 'master of fine arts', 'mfa', 'm.f.a.', 'master of international affairs', 'mia', 'm.i.a.', 'master of international studies', 'mis', 'm.i.s.', 'master of laws', 'llm', 'll.m.', 'master of library science', 'mls', 'master of liberal arts', 'mla', 'master of library and information science', 'mlis', 'master of music', 'm.m.', 'master of professional studies', 'mps', 'master of public administration', 'mpa', 'm.p.a.', 'master of public health', 'mph', 'm.p.h.', 'master of science', '(us ms', 'm.s.; (uk msc', 'm.sc.', 'master of science in information', 'msi', 'm.s.i.', 'master of social work', 'msw', 'm.s.w.', 'master of strategic foresight', 'msf', 'm.s.f.', 'master of technology', 'mtech', 'm.tech.', 'master of theology', 'thm', 'th.m.']\n"
     ]
    }
   ],
   "source": [
    "print(master)"
   ]
  },
  {
   "cell_type": "code",
   "execution_count": 10,
   "metadata": {},
   "outputs": [],
   "source": [
    "doctorat=[]\n",
    "\n",
    "for r in result[4]:\n",
    "        t=r.split(' or ')\n",
    "        for a in t:\n",
    "            doctorat.extend(a.split(', '))"
   ]
  },
  {
   "cell_type": "code",
   "execution_count": 11,
   "metadata": {},
   "outputs": [
    {
     "name": "stdout",
     "output_type": "stream",
     "text": [
      "['doctor of acupuncture', 'dac', 'd.ac.', 'dac.', 'doctor of audiology', 'aud', 'au.d.', 'doctor of biblical studies', 'dbs', 'd.b.s.', 'db', 'doctor of chiropractic', 'dc', 'd.c.', 'doctor of dental surgery', 'dds', 'd.d.s.', 'doctor of divinity', 'dd', 'd.d.', 'doctor of education', 'edd', 'ed.d.', 'doctor of jurisprudence (juris doctor', 'jd', 'j.d.', 'doctor of immortality', 'imd', 'im.d.', 'doctor of law and policy', 'lp.d.', 'dlp', 'doctor of medical dentistry', 'dmd', 'd.m.d.', 'doctor of medicine', 'md', 'm.d.', 'doctor of ministry', 'dmin', 'doctor of metaphysics', 'dr. mph.', 'doctor of musical arts', 'd.m.a.', 'doctor of naturopathy', 'nd', 'n.d.', 'doctor of nursing practice', 'dnp', 'd.n.p.', 'doctor of optometry', 'od', 'o.d.', 'doctor of osteopathy', 'do', 'd.o.', 'doctor of pharmacy', 'pharmd', 'pharm.d.', 'doctor of philosophy', 'phd', 'ph.d.', 'dphil', 'd.phil.', 'dph,', 'd.ph.', 'doctor of physical therapy', 'dpt', 'd.p.t.', 'doctor of practical theology', 'dpt', 'd.p.t.', 'doctor of psychology', 'psyd', 'psy.d.', 'doctor of public health', 'drph', 'doctor of religious sciences', 'dr. sc. rel.', 'd.r.s.', 'doctor of science', 'dsc', 'd.sc.', 'scd', 'doctor of theology', 'd.th.', 'th.d.', 'thd', 'doctor of veterinary medicine', 'dvm', 'd.v.m.']\n"
     ]
    }
   ],
   "source": [
    "print(doctorat)"
   ]
  },
  {
   "cell_type": "code",
   "execution_count": 12,
   "metadata": {},
   "outputs": [],
   "source": [
    "associate_diploma=[]\n",
    "\n",
    "for r in result[1]:\n",
    "        t=r.split(' or ')\n",
    "        for a in t:\n",
    "            associate_diploma.extend(a.split(', '))"
   ]
  },
  {
   "cell_type": "code",
   "execution_count": 13,
   "metadata": {},
   "outputs": [
    {
     "name": "stdout",
     "output_type": "stream",
     "text": [
      "['associate of arts', 'aa', 'a.a.', 'associate of science', 'as', 'a.s.', \"brevet d'études professionnelles (france\", 'bep', \"certificat d'aptitude professionnelle (france\", 'cap', 'diploma of arts', 'dip.arts', 'diploma of language studies', 'dip.lang.stud.', 'diploma of languages', 'dip.lang', 'diploma of social sciences', 'dip.soc.sc.', 'diploma of education', 'dip.ed', 'diploma of music', 'dip.mus.']\n"
     ]
    }
   ],
   "source": [
    "print(associate_diploma)"
   ]
  },
  {
   "cell_type": "code",
   "execution_count": 14,
   "metadata": {},
   "outputs": [],
   "source": [
    "educ={}\n",
    "educ['bachelor']=bachelor\n",
    "educ['master']=master\n",
    "educ['doctorat']=doctorat\n",
    "educ['associate-diploma']=associate_diploma"
   ]
  },
  {
   "cell_type": "code",
   "execution_count": 17,
   "metadata": {},
   "outputs": [],
   "source": [
    "educ['bachelor'].append('bsba')\n",
    "educ['bachelor'].append('bachelor')"
   ]
  },
  {
   "cell_type": "code",
   "execution_count": 18,
   "metadata": {},
   "outputs": [],
   "source": [
    "with open('education.pickle','wb') as f:\n",
    "    pickle.dump(educ,f)"
   ]
  },
  {
   "cell_type": "code",
   "execution_count": null,
   "metadata": {},
   "outputs": [],
   "source": []
  }
 ],
 "metadata": {
  "kernelspec": {
   "display_name": "Python 3",
   "language": "python",
   "name": "python3"
  },
  "language_info": {
   "codemirror_mode": {
    "name": "ipython",
    "version": 3
   },
   "file_extension": ".py",
   "mimetype": "text/x-python",
   "name": "python",
   "nbconvert_exporter": "python",
   "pygments_lexer": "ipython3",
   "version": "3.7.4"
  }
 },
 "nbformat": 4,
 "nbformat_minor": 2
}
