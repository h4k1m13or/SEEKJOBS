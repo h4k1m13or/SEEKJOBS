{
 "cells": [
  {
   "cell_type": "code",
   "execution_count": 1,
   "metadata": {},
   "outputs": [],
   "source": [
    "import pickle\n",
    "import nltk\n",
    "from nltk.tokenize import sent_tokenize"
   ]
  },
  {
   "cell_type": "code",
   "execution_count": 2,
   "metadata": {},
   "outputs": [],
   "source": [
    "def extract_education(sentence): \n",
    "    result = []\n",
    "    result = sent_tokenize(sentence)\n",
    "   \n",
    "   \n",
    "    r={}\n",
    "    try:\n",
    "        for i in tokenized:\n",
    "            words = nltk.word_tokenize(i)\n",
    "            mwtokenizer = nltk.MWETokenizer(separator='')\n",
    "            mwtokenizer.add_mwe(('C', '#'))\n",
    "            mwtokenizer.add_mwe(('c', '#'))\n",
    "            words = mwtokenizer.tokenize(words)\n",
    "            tagged = nltk.pos_tag(words)\n",
    "            chunkGram = r\"\"\"skill: {(<NNP|NN>(<POS>)*<IN>(<NNP>)+)+}\"\"\"\n",
    "            chunkParser = nltk.RegexpParser(chunkGram)\n",
    "            chunked = chunkParser.parse(tagged)\n",
    "\n",
    "            for subtree in chunked.subtrees(filter=lambda t: t.label() == 'skill'):\n",
    "                #result.append(' '.join([i[0] for i in subtree.leaves()]).lower())\n",
    "                # for i in subtree.leaves():\n",
    "                #      result.append(i[0])\n",
    "                print()\n",
    "    except Exception as e:\n",
    "        print(str(e))\n",
    "    with open('education.pickle', 'rb') as f:\n",
    "        education = pickle.load(f)\n",
    "    educations=[]\n",
    "    degrees=[]\n",
    "    for degree in education.items():\n",
    "        for d in degree[1]:\n",
    "            for educ in result:\n",
    "                if educ.find(d+' ') != -1:\n",
    "                    educations.append(educ)\n",
    "                    degrees.append(degree[0])\n",
    "                    break\n",
    "    r['education']=list(set(educations))\n",
    "    r['degree']=list(set(degrees))\n",
    "    return r\n"
   ]
  },
  {
   "cell_type": "code",
   "execution_count": 3,
   "metadata": {},
   "outputs": [],
   "source": [
    "skills = \"\"\"\n",
    "bachelor of technology in malineni lakshmaiah women\n",
    "engineering college\n",
    "2012\n",
    "\"\"\"\n",
    "\n"
   ]
  },
  {
   "cell_type": "code",
   "execution_count": 4,
   "metadata": {},
   "outputs": [
    {
     "name": "stdout",
     "output_type": "stream",
     "text": [
      "name 'tokenized' is not defined\n"
     ]
    },
    {
     "data": {
      "text/plain": [
       "{'education': ['\\nbachelor of technology in malineni lakshmaiah women\\nengineering college\\n2012'],\n",
       " 'degree': ['bachelor']}"
      ]
     },
     "execution_count": 4,
     "metadata": {},
     "output_type": "execute_result"
    }
   ],
   "source": [
    "extract_education(skills)"
   ]
  }
 ],
 "metadata": {
  "kernelspec": {
   "display_name": "Python 3",
   "language": "python",
   "name": "python3"
  },
  "language_info": {
   "codemirror_mode": {
    "name": "ipython",
    "version": 3
   },
   "file_extension": ".py",
   "mimetype": "text/x-python",
   "name": "python",
   "nbconvert_exporter": "python",
   "pygments_lexer": "ipython3",
   "version": "3.7.4"
  }
 },
 "nbformat": 4,
 "nbformat_minor": 2
}
