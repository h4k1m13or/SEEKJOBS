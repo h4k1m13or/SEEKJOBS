{
 "cells": [
  {
   "cell_type": "code",
   "execution_count": 1,
   "metadata": {},
   "outputs": [],
   "source": [
    "import pandas as pd\n",
    "import numpy as np\n",
    "import re\n",
    "import json\n",
    "import matplotlib.pyplot as plt\n",
    "from nltk.corpus import stopwords\n",
    "from nltk.stem import PorterStemmer\n",
    "from sklearn.feature_extraction.text import TfidfVectorizer\n",
    "from sklearn.pipeline import Pipeline\n",
    "from sklearn.metrics import classification_report, confusion_matrix\n",
    "from sklearn.model_selection import train_test_split\n",
    "from sklearn.feature_selection import SelectKBest, chi2\n",
    "from sklearn.ensemble import RandomForestClassifier\n",
    "from sklearn.naive_bayes import MultinomialNB\n",
    "from sklearn.neighbors import KNeighborsClassifier\n",
    "from sklearn.svm import LinearSVC\n",
    "import pickle\n",
    "%matplotlib inline"
   ]
  },
  {
   "cell_type": "code",
   "execution_count": 2,
   "metadata": {},
   "outputs": [],
   "source": [
    "\n",
    "documents=[]\n",
    "with open('data/resume/dataset_Skills.json','r') as skills:\n",
    "    data=json.load(skills)\n",
    "    for i in range(0,1450):\n",
    "        documents.append((data['0'][str(i)],'Skills'))\n",
    "        \n",
    "        \n",
    "with open('data/resume/dataset_Education.json','r') as educ:\n",
    "    data=json.load(educ)\n",
    "    for i in range(0,1697):\n",
    "        documents.append((data['0'][str(i)],'Education'))\n",
    "        \n",
    "with open('data/resume/dataset_Experience.json','r') as exp:\n",
    "    data=json.load(exp)\n",
    "    for i in range(0,1749):\n",
    "        documents.append((data['0'][str(i)],'Experience'))\n",
    "\n",
    "df=pd.DataFrame(documents,columns=['text','class'])   "
   ]
  },
  {
   "cell_type": "code",
   "execution_count": 3,
   "metadata": {},
   "outputs": [
    {
     "data": {
      "image/png": "[encoded data removed]",
      "text/plain": [
       "<Figure size 432x288 with 1 Axes>"
      ]
     },
     "metadata": {
      "needs_background": "light"
     },
     "output_type": "display_data"
    }
   ],
   "source": [
    "df.groupby('class').text.count().plot.bar(ylim=0)\n",
    "plt.show()"
   ]
  },
  {
   "cell_type": "code",
   "execution_count": 4,
   "metadata": {},
   "outputs": [
    {
     "data": {
      "text/html": [
       "<div>\n",
       "<style scoped>\n",
       "    .dataframe tbody tr th:only-of-type {\n",
       "        vertical-align: middle;\n",
       "    }\n",
       "\n",
       "    .dataframe tbody tr th {\n",
       "        vertical-align: top;\n",
       "    }\n",
       "\n",
       "    .dataframe thead th {\n",
       "        text-align: right;\n",
       "    }\n",
       "</style>\n",
       "<table border=\"1\" class=\"dataframe\">\n",
       "  <thead>\n",
       "    <tr style=\"text-align: right;\">\n",
       "      <th></th>\n",
       "      <th>text</th>\n",
       "      <th>class</th>\n",
       "      <th>cleaned</th>\n",
       "    </tr>\n",
       "  </thead>\n",
       "  <tbody>\n",
       "    <tr>\n",
       "      <th>0</th>\n",
       "      <td>60 wpm (10+ years), Data Base (10+ years), Pay...</td>\n",
       "      <td>Skills</td>\n",
       "      <td>60 wpm (10+ years), Data Base (10+ years), Pay...</td>\n",
       "    </tr>\n",
       "    <tr>\n",
       "      <th>1</th>\n",
       "      <td>SQL (10+ years), ETL (10+ years), EXTRACT, TRA...</td>\n",
       "      <td>Skills</td>\n",
       "      <td>SQL (10+ years), ETL (10+ years), EXTRACT, TRA...</td>\n",
       "    </tr>\n",
       "    <tr>\n",
       "      <th>2</th>\n",
       "      <td>Crystal Reports (2 years), Databases (8 years)...</td>\n",
       "      <td>Skills</td>\n",
       "      <td>Crystal Reports (2 years), Databases (8 years)...</td>\n",
       "    </tr>\n",
       "    <tr>\n",
       "      <th>3</th>\n",
       "      <td>Oracle database, SQL , End user training (4 ye...</td>\n",
       "      <td>Skills</td>\n",
       "      <td>Oracle database, SQL , End user training (4 ye...</td>\n",
       "    </tr>\n",
       "    <tr>\n",
       "      <th>4</th>\n",
       "      <td>QUOTA (Less than 1 year), CUSTOMER SERVICE (Le...</td>\n",
       "      <td>Skills</td>\n",
       "      <td>QUOTA (Less 1 year), CUSTOMER SERVICE (Less 1 ...</td>\n",
       "    </tr>\n",
       "  </tbody>\n",
       "</table>\n",
       "</div>"
      ],
      "text/plain": [
       "                                                text   class  \\\n",
       "0  60 wpm (10+ years), Data Base (10+ years), Pay...  Skills   \n",
       "1  SQL (10+ years), ETL (10+ years), EXTRACT, TRA...  Skills   \n",
       "2  Crystal Reports (2 years), Databases (8 years)...  Skills   \n",
       "3  Oracle database, SQL , End user training (4 ye...  Skills   \n",
       "4  QUOTA (Less than 1 year), CUSTOMER SERVICE (Le...  Skills   \n",
       "\n",
       "                                             cleaned  \n",
       "0  60 wpm (10+ years), Data Base (10+ years), Pay...  \n",
       "1  SQL (10+ years), ETL (10+ years), EXTRACT, TRA...  \n",
       "2  Crystal Reports (2 years), Databases (8 years)...  \n",
       "3  Oracle database, SQL , End user training (4 ye...  \n",
       "4  QUOTA (Less 1 year), CUSTOMER SERVICE (Less 1 ...  "
      ]
     },
     "execution_count": 4,
     "metadata": {},
     "output_type": "execute_result"
    }
   ],
   "source": [
    "words = stopwords.words(\"english\")\n",
    "df['cleaned'] = df['text'].apply(lambda x: \" \".join([i for i in x.split() if i not in words]))\n",
    "df.head()"
   ]
  },
  {
   "cell_type": "code",
   "execution_count": 5,
   "metadata": {},
   "outputs": [],
   "source": [
    "vectorizer = TfidfVectorizer(min_df= 3, stop_words=\"english\", sublinear_tf=True, norm='l2', ngram_range=(1, 3))\n",
    "final_features = vectorizer.fit_transform(df['cleaned']).toarray()\n",
    "final_features.shape\n",
    "df = df.sample(frac=1).reset_index(drop=True)\n"
   ]
  },
  {
   "cell_type": "code",
   "execution_count": 6,
   "metadata": {
    "scrolled": true
   },
   "outputs": [
    {
     "name": "stderr",
     "output_type": "stream",
     "text": [
      "c:\\python\\lib\\site-packages\\sklearn\\ensemble\\forest.py:245: FutureWarning: The default value of n_estimators will change from 10 in version 0.20 to 100 in 0.22.\n",
      "  \"10 in version 0.20 to 100 in 0.22.\", FutureWarning)\n"
     ]
    },
    {
     "name": "stdout",
     "output_type": "stream",
     "text": [
      "              precision    recall  f1-score   support\n",
      "\n",
      "   Education       0.95      1.00      0.97       420\n",
      "  Experience       1.00      0.95      0.97       444\n",
      "      Skills       1.00      1.00      1.00       360\n",
      "\n",
      "    accuracy                           0.98      1224\n",
      "   macro avg       0.98      0.98      0.98      1224\n",
      "weighted avg       0.98      0.98      0.98      1224\n",
      "\n",
      "[[419   1   0]\n",
      " [ 23 421   0]\n",
      " [  0   1 359]]\n"
     ]
    }
   ],
   "source": [
    "#first we split our dataset into testing and training set:\n",
    "# this block is to split the dataset into training and testing set \n",
    "X = df['cleaned']\n",
    "Y = df['class']\n",
    "X_train, X_test, y_train, y_test = train_test_split(X, Y, test_size=0.25)\n",
    "# instead of doing these steps one at a time, we can use a pipeline to complete them all at once\n",
    "pipeline = Pipeline([('vect', vectorizer),\n",
    "                     ('chi',  SelectKBest(chi2, k=1200)),\n",
    "                     ('clf', RandomForestClassifier())])\n",
    "# fitting our model and save it in a pickle for later use\n",
    "model = pipeline.fit(X_train, y_train)\n",
    "with open('RandomForest.pickle', 'wb') as f:\n",
    "    pickle.dump(model, f)\n",
    "ytest = np.array(y_test)\n",
    "# confusion matrix and classification report(precision, recall, F1-score)\n",
    "print(classification_report(ytest, model.predict(X_test)))\n",
    "print(confusion_matrix(ytest, model.predict(X_test)))"
   ]
  },
  {
   "cell_type": "code",
   "execution_count": 7,
   "metadata": {},
   "outputs": [
    {
     "name": "stdout",
     "output_type": "stream",
     "text": [
      "['Education']\n"
     ]
    }
   ],
   "source": [
    "str=\"\"\"Work Experience\"\"\"\n",
    "print(model.predict([str]))"
   ]
  },
  {
   "cell_type": "code",
   "execution_count": null,
   "metadata": {},
   "outputs": [],
   "source": []
  }
 ],
 "metadata": {
  "kernelspec": {
   "display_name": "Python 3",
   "language": "python",
   "name": "python3"
  },
  "language_info": {
   "codemirror_mode": {
    "name": "ipython",
    "version": 3
   },
   "file_extension": ".py",
   "mimetype": "text/x-python",
   "name": "python",
   "nbconvert_exporter": "python",
   "pygments_lexer": "ipython3",
   "version": "3.7.4"
  }
 },
 "nbformat": 4,
 "nbformat_minor": 2
}
